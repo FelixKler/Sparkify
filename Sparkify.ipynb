{
 "cells": [
  {
   "cell_type": "markdown",
   "metadata": {},
   "source": [
    "### Table of Contents <a id='toc'></a>\n",
    "\n",
    "#### [1. Introduction](#intro)\n",
    "#### [2. Load and Clean Dataset](#load_clean)\n",
    "#### [3. Exploratory Data Analysis](#explore)\n",
    "#### [4. Feature Engineering](#feature_engineering)\n",
    "#### [5. Modeling](#modeling)\n",
    "#### [6. Final Steps](#final)"
   ]
  },
  {
   "cell_type": "markdown",
   "metadata": {},
   "source": [
    "# 1. Introduction - Sparkify Project Workspace<a id='intro'></a>\n",
    "\n",
    "This workspace contains a tiny subset (128MB) of the full dataset available (12GB). Feel free to use this workspace to build your project, or to explore a smaller subset with Spark before deploying your cluster on the cloud. Instructions for setting up your Spark cluster is included in the last lesson of the Extracurricular Spark Course content.\n",
    "\n",
    "You can follow the steps below to guide your data analysis and model building portion of this project."
   ]
  },
  {
   "cell_type": "code",
   "execution_count": 1,
   "metadata": {},
   "outputs": [],
   "source": [
    "# import libraries\n",
    "from pyspark import SparkContext, SparkConf\n",
    "from pyspark.sql import SparkSession\n",
    "from pyspark.sql.functions import udf, split, col\n",
    "\n",
    "from pyspark.ml.classification import LogisticRegression, DecisionTreeClassifier, GBTClassifier\n",
    "from pyspark.ml.evaluation import MulticlassClassificationEvaluator\n",
    "from pyspark.ml.feature import VectorAssembler, StandardScaler\n",
    "from pyspark.ml.tuning import CrossValidator, ParamGridBuilder\n",
    "\n",
    "import pandas as pd\n",
    "import datetime\n",
    "from time import time\n",
    "import seaborn as sns\n",
    "import matplotlib.pyplot as plt"
   ]
  },
  {
   "cell_type": "code",
   "execution_count": 2,
   "metadata": {},
   "outputs": [],
   "source": [
    "# create a Spark session\n",
    "spark = SparkSession \\\n",
    ".builder \\\n",
    ".appName(\"sparkify\") \\\n",
    ".getOrCreate()"
   ]
  },
  {
   "cell_type": "code",
   "execution_count": 3,
   "metadata": {},
   "outputs": [
    {
     "data": {
      "text/html": [
       "\n",
       "            <div>\n",
       "                <p><b>SparkSession - in-memory</b></p>\n",
       "                \n",
       "        <div>\n",
       "            <p><b>SparkContext</b></p>\n",
       "\n",
       "            <p><a href=\"http://192.168.0.3:4040\">Spark UI</a></p>\n",
       "\n",
       "            <dl>\n",
       "              <dt>Version</dt>\n",
       "                <dd><code>v2.4.4</code></dd>\n",
       "              <dt>Master</dt>\n",
       "                <dd><code>local[*]</code></dd>\n",
       "              <dt>AppName</dt>\n",
       "                <dd><code>sparkify</code></dd>\n",
       "            </dl>\n",
       "        </div>\n",
       "        \n",
       "            </div>\n",
       "        "
      ],
      "text/plain": [
       "<pyspark.sql.session.SparkSession at 0x220bbb31908>"
      ]
     },
     "execution_count": 3,
     "metadata": {},
     "output_type": "execute_result"
    }
   ],
   "source": [
    "spark"
   ]
  },
  {
   "cell_type": "code",
   "execution_count": 4,
   "metadata": {},
   "outputs": [
    {
     "data": {
      "text/plain": [
       "[('spark.driver.port', '54820'),\n",
       " ('spark.app.name', 'sparkify'),\n",
       " ('spark.app.id', 'local-1576514083996'),\n",
       " ('spark.rdd.compress', 'True'),\n",
       " ('spark.serializer.objectStreamReset', '100'),\n",
       " ('spark.master', 'local[*]'),\n",
       " ('spark.executor.id', 'driver'),\n",
       " ('spark.submit.deployMode', 'client'),\n",
       " ('spark.driver.host', '192.168.0.3'),\n",
       " ('spark.ui.showConsoleProgress', 'true')]"
      ]
     },
     "execution_count": 4,
     "metadata": {},
     "output_type": "execute_result"
    }
   ],
   "source": [
    "spark.sparkContext.getConf().getAll()"
   ]
  },
  {
   "cell_type": "markdown",
   "metadata": {},
   "source": [
    "# 2. Load and Clean Dataset<a id='load_clean'></a>\n",
    "[back](#toc)\n",
    "\n",
    "In this workspace, the mini-dataset file is `mini_sparkify_event_data.json`. Load and clean the dataset, checking for invalid or missing data - for example, records without userids or sessionids. "
   ]
  },
  {
   "cell_type": "code",
   "execution_count": 5,
   "metadata": {},
   "outputs": [],
   "source": [
    "# read sparkify data set\n",
    "data = spark.read.json('mini_sparkify_event_data.json')"
   ]
  },
  {
   "cell_type": "code",
   "execution_count": 6,
   "metadata": {},
   "outputs": [
    {
     "name": "stdout",
     "output_type": "stream",
     "text": [
      "root\n",
      " |-- artist: string (nullable = true)\n",
      " |-- auth: string (nullable = true)\n",
      " |-- firstName: string (nullable = true)\n",
      " |-- gender: string (nullable = true)\n",
      " |-- itemInSession: long (nullable = true)\n",
      " |-- lastName: string (nullable = true)\n",
      " |-- length: double (nullable = true)\n",
      " |-- level: string (nullable = true)\n",
      " |-- location: string (nullable = true)\n",
      " |-- method: string (nullable = true)\n",
      " |-- page: string (nullable = true)\n",
      " |-- registration: long (nullable = true)\n",
      " |-- sessionId: long (nullable = true)\n",
      " |-- song: string (nullable = true)\n",
      " |-- status: long (nullable = true)\n",
      " |-- ts: long (nullable = true)\n",
      " |-- userAgent: string (nullable = true)\n",
      " |-- userId: string (nullable = true)\n",
      "\n"
     ]
    }
   ],
   "source": [
    "data.printSchema()"
   ]
  },
  {
   "cell_type": "code",
   "execution_count": 7,
   "metadata": {},
   "outputs": [
    {
     "data": {
      "text/plain": [
       "[Row(artist='Martha Tilston', auth='Logged In', firstName='Colin', gender='M', itemInSession=50, lastName='Freeman', length=277.89016, level='paid', location='Bakersfield, CA', method='PUT', page='NextSong', registration=1538173362000, sessionId=29, song='Rockpools', status=200, ts=1538352117000, userAgent='Mozilla/5.0 (Windows NT 6.1; WOW64; rv:31.0) Gecko/20100101 Firefox/31.0', userId='30')]"
      ]
     },
     "execution_count": 7,
     "metadata": {},
     "output_type": "execute_result"
    }
   ],
   "source": [
    "data.take(1)"
   ]
  },
  {
   "cell_type": "code",
   "execution_count": 8,
   "metadata": {},
   "outputs": [
    {
     "data": {
      "text/plain": [
       "286500"
      ]
     },
     "execution_count": 8,
     "metadata": {},
     "output_type": "execute_result"
    }
   ],
   "source": [
    "data.count()"
   ]
  },
  {
   "cell_type": "code",
   "execution_count": 9,
   "metadata": {},
   "outputs": [
    {
     "data": {
      "text/plain": [
       "8346"
      ]
     },
     "execution_count": 9,
     "metadata": {},
     "output_type": "execute_result"
    }
   ],
   "source": [
    "data.filter(data.userId==\"\").count() # check for missing userId-Data"
   ]
  },
  {
   "cell_type": "code",
   "execution_count": 10,
   "metadata": {},
   "outputs": [],
   "source": [
    "df = data.filter(data.userId!=\"\") # create data, only with valid userId's"
   ]
  },
  {
   "cell_type": "code",
   "execution_count": 11,
   "metadata": {},
   "outputs": [
    {
     "data": {
      "text/plain": [
       "278154"
      ]
     },
     "execution_count": 11,
     "metadata": {},
     "output_type": "execute_result"
    }
   ],
   "source": [
    "df.count()"
   ]
  },
  {
   "cell_type": "code",
   "execution_count": 12,
   "metadata": {},
   "outputs": [
    {
     "name": "stdout",
     "output_type": "stream",
     "text": [
      "+--------------------+\n",
      "|                page|\n",
      "+--------------------+\n",
      "|               About|\n",
      "|          Add Friend|\n",
      "|     Add to Playlist|\n",
      "|              Cancel|\n",
      "|Cancellation Conf...|\n",
      "|           Downgrade|\n",
      "|               Error|\n",
      "|                Help|\n",
      "|                Home|\n",
      "|              Logout|\n",
      "|            NextSong|\n",
      "|         Roll Advert|\n",
      "|       Save Settings|\n",
      "|            Settings|\n",
      "|    Submit Downgrade|\n",
      "|      Submit Upgrade|\n",
      "|         Thumbs Down|\n",
      "|           Thumbs Up|\n",
      "|             Upgrade|\n",
      "+--------------------+\n",
      "\n"
     ]
    }
   ],
   "source": [
    "df.select(\"page\").dropDuplicates().sort(\"page\").show()"
   ]
  },
  {
   "cell_type": "code",
   "execution_count": 13,
   "metadata": {},
   "outputs": [
    {
     "data": {
      "text/plain": [
       "114"
      ]
     },
     "execution_count": 13,
     "metadata": {},
     "output_type": "execute_result"
    }
   ],
   "source": [
    "df.select(\"location\").dropDuplicates().sort(\"location\").count()"
   ]
  },
  {
   "cell_type": "code",
   "execution_count": 14,
   "metadata": {},
   "outputs": [
    {
     "name": "stdout",
     "output_type": "stream",
     "text": [
      "+-----+\n",
      "|level|\n",
      "+-----+\n",
      "| free|\n",
      "| paid|\n",
      "+-----+\n",
      "\n"
     ]
    }
   ],
   "source": [
    "df.select(\"level\").dropDuplicates().sort(\"level\").show()"
   ]
  },
  {
   "cell_type": "code",
   "execution_count": 15,
   "metadata": {
    "scrolled": true
   },
   "outputs": [
    {
     "name": "stdout",
     "output_type": "stream",
     "text": [
      "+------+\n",
      "|userId|\n",
      "+------+\n",
      "|    18|\n",
      "|    32|\n",
      "|   125|\n",
      "|   105|\n",
      "|    17|\n",
      "+------+\n",
      "only showing top 5 rows\n",
      "\n"
     ]
    }
   ],
   "source": [
    "df.filter(df.page==\"Cancellation Confirmation\").select(\"userId\").show(5)"
   ]
  },
  {
   "cell_type": "code",
   "execution_count": 16,
   "metadata": {},
   "outputs": [],
   "source": [
    "# transform ts into human readable time format\n",
    "get_time = udf(lambda x: datetime.datetime.fromtimestamp(x/1000).strftime(\"%Y-%m-%d %H:%M:%S\"))\n",
    "df = df.withColumn(\"time\", get_time(df.ts))"
   ]
  },
  {
   "cell_type": "code",
   "execution_count": 17,
   "metadata": {},
   "outputs": [
    {
     "data": {
      "text/plain": [
       "Row(artist='Martha Tilston', auth='Logged In', firstName='Colin', gender='M', itemInSession=50, lastName='Freeman', length=277.89016, level='paid', location='Bakersfield, CA', method='PUT', page='NextSong', registration=1538173362000, sessionId=29, song='Rockpools', status=200, ts=1538352117000, userAgent='Mozilla/5.0 (Windows NT 6.1; WOW64; rv:31.0) Gecko/20100101 Firefox/31.0', userId='30', time='2018-10-01 02:01:57')"
      ]
     },
     "execution_count": 17,
     "metadata": {},
     "output_type": "execute_result"
    }
   ],
   "source": [
    "df.head()"
   ]
  },
  {
   "cell_type": "markdown",
   "metadata": {},
   "source": [
    "# 3. Exploratory Data Analysis<a id='explore'></a>\n",
    "[back](#toc)\n",
    "\n",
    "When you're working with the full dataset, perform EDA by loading a small subset of the data and doing basic manipulations within Spark. In this workspace, you are already provided a small subset of data you can explore.\n",
    "\n",
    "### Define Churn\n",
    "\n",
    "Once you've done some preliminary analysis, create a column `Churn` to use as the label for your model. I suggest using the `Cancellation Confirmation` events to define your churn, which happen for both paid and free users. As a bonus task, you can also look into the `Downgrade` events.\n",
    "\n",
    "### Explore Data\n",
    "Once you've defined churn, perform some exploratory data analysis to observe the behavior for users who stayed vs users who churned. You can start by exploring aggregates on these two groups of users, observing how much of a specific action they experienced per a certain time unit or number of songs played."
   ]
  },
  {
   "cell_type": "code",
   "execution_count": 18,
   "metadata": {},
   "outputs": [],
   "source": [
    "# add a churn column for users used the \"Cancellation Confirmation\" page\n",
    "churn_users = df.filter(df.page=='Cancellation Confirmation').select('userId').dropDuplicates()\n",
    "churn_users_list = [(row['userId']) for row in churn_users.collect()]\n",
    "df_c = df.withColumn('churn', df.userId.isin(churn_users_list))"
   ]
  },
  {
   "cell_type": "code",
   "execution_count": 19,
   "metadata": {},
   "outputs": [
    {
     "name": "stdout",
     "output_type": "stream",
     "text": [
      "+------+-------------------+---------+\n",
      "|userId|               time|     page|\n",
      "+------+-------------------+---------+\n",
      "|    54|2018-10-01 02:32:10| NextSong|\n",
      "|    54|2018-10-01 02:36:20| NextSong|\n",
      "|    54|2018-10-01 02:39:56| NextSong|\n",
      "|    54|2018-10-01 02:45:39| NextSong|\n",
      "|    54|2018-10-01 02:45:49|Downgrade|\n",
      "+------+-------------------+---------+\n",
      "only showing top 5 rows\n",
      "\n"
     ]
    }
   ],
   "source": [
    "df_c.filter(df_c['churn']==True).select('userId', 'time', 'page').show(5)"
   ]
  },
  {
   "cell_type": "code",
   "execution_count": 20,
   "metadata": {},
   "outputs": [
    {
     "name": "stdout",
     "output_type": "stream",
     "text": [
      "+---------+-------------------+-----+------+------+-----+-------------+---------+---------+\n",
      "|     page|               time|level|status|method|churn|itemInSession|sessionId|   length|\n",
      "+---------+-------------------+-----+------+------+-----+-------------+---------+---------+\n",
      "| NextSong|2018-10-01 02:32:10| paid|   200|   PUT| true|            0|       53|250.93179|\n",
      "| NextSong|2018-10-01 02:36:20| paid|   200|   PUT| true|            1|       53|  216.842|\n",
      "| NextSong|2018-10-01 02:39:56| paid|   200|   PUT| true|            2|       53|343.32689|\n",
      "| NextSong|2018-10-01 02:45:39| paid|   200|   PUT| true|            3|       53|246.25587|\n",
      "|Downgrade|2018-10-01 02:45:49| paid|   200|   GET| true|            4|       53|     null|\n",
      "| NextSong|2018-10-01 02:49:45| paid|   200|   PUT| true|            5|       53|269.03465|\n",
      "| NextSong|2018-10-01 02:54:14| paid|   200|   PUT| true|            6|       53|243.04281|\n",
      "|Thumbs Up|2018-10-01 02:54:15| paid|   307|   PUT| true|            7|       53|     null|\n",
      "| NextSong|2018-10-01 14:12:37| paid|   200|   PUT| true|            0|      260|307.51302|\n",
      "| NextSong|2018-10-01 14:17:44| paid|   200|   PUT| true|            1|      260|374.20363|\n",
      "| NextSong|2018-10-01 14:23:58| paid|   200|   PUT| true|            2|      260|268.90404|\n",
      "| NextSong|2018-10-01 14:28:26| paid|   200|   PUT| true|            3|      260|163.18649|\n",
      "| NextSong|2018-10-01 14:31:09| paid|   200|   PUT| true|            4|      260|246.04689|\n",
      "| NextSong|2018-10-01 14:35:15| paid|   200|   PUT| true|            5|      260| 160.1824|\n",
      "| NextSong|2018-10-01 14:37:55| paid|   200|   PUT| true|            6|      260|182.88281|\n",
      "| NextSong|2018-10-01 14:40:57| paid|   200|   PUT| true|            7|      260|404.94975|\n",
      "| NextSong|2018-10-01 14:47:41| paid|   200|   PUT| true|            8|      260|159.89506|\n",
      "| NextSong|2018-10-01 14:50:20| paid|   200|   PUT| true|            9|      260| 411.6371|\n",
      "| NextSong|2018-10-01 14:57:11| paid|   200|   PUT| true|           10|      260|229.85098|\n",
      "| NextSong|2018-10-01 15:01:00| paid|   200|   PUT| true|           11|      260|307.61751|\n",
      "+---------+-------------------+-----+------+------+-----+-------------+---------+---------+\n",
      "only showing top 20 rows\n",
      "\n"
     ]
    }
   ],
   "source": [
    "#show some data of a user who churned\n",
    "df_c.filter(df_c['userId']=='54').select('page', \n",
    "                                          'time', \n",
    "                                          'level', \n",
    "                                          'status', \n",
    "                                          'method', \n",
    "                                          'churn',\n",
    "                                          'itemInSession',\n",
    "                                          'sessionId',\n",
    "                                          'length').show(20)"
   ]
  },
  {
   "cell_type": "code",
   "execution_count": 21,
   "metadata": {},
   "outputs": [],
   "source": [
    "# create location state\n",
    "location_split = split(df_c['location'], ',')\n",
    "df_c = df_c.withColumn('state', location_split.getItem(1))"
   ]
  },
  {
   "cell_type": "code",
   "execution_count": 22,
   "metadata": {},
   "outputs": [
    {
     "name": "stdout",
     "output_type": "stream",
     "text": [
      "+------+--------------------+------+\n",
      "|userId|            location| state|\n",
      "+------+--------------------+------+\n",
      "|    30|     Bakersfield, CA|    CA|\n",
      "|     9|Boston-Cambridge-...| MA-NH|\n",
      "|    30|     Bakersfield, CA|    CA|\n",
      "|     9|Boston-Cambridge-...| MA-NH|\n",
      "|    30|     Bakersfield, CA|    CA|\n",
      "+------+--------------------+------+\n",
      "only showing top 5 rows\n",
      "\n"
     ]
    }
   ],
   "source": [
    "df_c.select('userId', 'location', 'state').show(5)"
   ]
  },
  {
   "cell_type": "markdown",
   "metadata": {},
   "source": [
    "### Visualizations"
   ]
  },
  {
   "cell_type": "code",
   "execution_count": 23,
   "metadata": {},
   "outputs": [],
   "source": [
    "# settings\n",
    "colors = sns.color_palette(['#00b0f0', '#cf1348'])"
   ]
  },
  {
   "cell_type": "markdown",
   "metadata": {},
   "source": [
    "#### Gender, Level, States"
   ]
  },
  {
   "cell_type": "code",
   "execution_count": 24,
   "metadata": {},
   "outputs": [],
   "source": [
    "# Gender\n",
    "gender = df_c \\\n",
    "    .dropDuplicates(['userId', 'gender']) \\\n",
    "    .groupby(['churn', 'gender']) \\\n",
    "    .count() \\\n",
    "    .sort('churn') \\\n",
    "    .toPandas()\n",
    "\n",
    "# level\n",
    "level = df_c \\\n",
    "    .dropDuplicates(['userId', 'level']) \\\n",
    "    .groupby(['churn', 'level']) \\\n",
    "    .count() \\\n",
    "    .sort('churn') \\\n",
    "    .toPandas()\n",
    "\n",
    "#states\n",
    "states = df_c \\\n",
    "    .dropDuplicates(['userId', 'state']) \\\n",
    "    .groupby(['churn', 'state']) \\\n",
    "    .count() \\\n",
    "    .sort('count', ascending=False) \\\n",
    "    .withColumnRenamed('count', 'num_users_per_state')\\\n",
    "    .toPandas()"
   ]
  },
  {
   "cell_type": "code",
   "execution_count": 65,
   "metadata": {},
   "outputs": [
    {
     "data": {
      "image/png": "[encoded data removed]",
      "text/plain": [
       "<Figure size 2250x750 with 2 Axes>"
      ]
     },
     "metadata": {
      "needs_background": "light"
     },
     "output_type": "display_data"
    }
   ],
   "source": [
    "fig1, axs1 = plt.subplots(1, 2, figsize=(15,5), squeeze=False, dpi=150)\n",
    "\n",
    "sns.barplot(x='gender',\n",
    "            y='count',\n",
    "            hue='churn',\n",
    "            data=gender,\n",
    "            palette=colors,\n",
    "            ci=None,\n",
    "            ax = axs1[0,0])\n",
    "\n",
    "sns.barplot(x='level',\n",
    "            y='count',\n",
    "            hue='churn',\n",
    "            data=level,\n",
    "            palette=colors,\n",
    "            ci=None,\n",
    "            ax = axs1[0,1])\n",
    "\n",
    "fig1.suptitle('Gender & Level', fontsize=14)\n",
    "plt.subplots_adjust(hspace=0.2, wspace=0.2)\n",
    "\n",
    "plt.show()"
   ]
  },
  {
   "cell_type": "code",
   "execution_count": 26,
   "metadata": {},
   "outputs": [
    {
     "data": {
      "image/png": "[encoded data removed]",
      "text/plain": [
       "<Figure size 3000x2250 with 1 Axes>"
      ]
     },
     "metadata": {
      "needs_background": "light"
     },
     "output_type": "display_data"
    }
   ],
   "source": [
    "fig, axs = plt.subplots(figsize=(20,15), dpi=150)\n",
    "\n",
    "axs = sns.barplot(x='num_users_per_state',\n",
    "                 y='state',\n",
    "                 hue='churn',\n",
    "                 data=states,\n",
    "                 palette=colors,\n",
    "                 ci=None)\n",
    "axs.set_xlabel('Number of users per state')\n",
    "\n",
    "plt.show()"
   ]
  },
  {
   "cell_type": "markdown",
   "metadata": {},
   "source": [
    "It seems, gender could be a feature for predicting churn, because more men churned. There is also a little difference in the level. Regarding the states it is interesting, that there are states like PA, NV, NC-SC with no churned useres, but this could be regarding the small data set."
   ]
  },
  {
   "cell_type": "markdown",
   "metadata": {},
   "source": [
    "#### Pages"
   ]
  },
  {
   "cell_type": "code",
   "execution_count": 27,
   "metadata": {},
   "outputs": [],
   "source": [
    "# songs\n",
    "songs = df_c.where('page == \"NextSong\"') \\\n",
    "    .groupby(['churn', 'userId', 'sessionId']) \\\n",
    "    .count()  \\\n",
    "    .groupby(['churn', 'userId']) \\\n",
    "    .agg({'count':'avg'}) \\\n",
    "    .withColumnRenamed('avg(count)', 'avg_songs_played') \\\n",
    "    .toPandas()\n",
    "\n",
    "# added friends\n",
    "added_friends = df_c.select('userId', 'churn', 'page') \\\n",
    "    .where(df_c.page == 'Add Friend') \\\n",
    "    .groupBy('userID', 'churn') \\\n",
    "    .count() \\\n",
    "    .withColumnRenamed('count', 'num_added_friends')  \\\n",
    "    .toPandas()\n",
    "\n",
    "\n",
    "# thumbs up\n",
    "thumbs_up = df_c.select('userId', 'churn', 'page') \\\n",
    "    .where(df_c.page == 'Thumbs Up') \\\n",
    "    .groupBy('userID', 'churn') \\\n",
    "    .count() \\\n",
    "    .withColumnRenamed('count', 'num_thumb_up')  \\\n",
    "    .toPandas()\n",
    "\n",
    "# thumbs down\n",
    "thumbs_down = df_c.select('userId', 'churn', 'page') \\\n",
    "    .where(df_c.page == 'Thumbs Down') \\\n",
    "    .groupBy('userID', 'churn') \\\n",
    "    .count() \\\n",
    "    .withColumnRenamed('count', 'num_thumb_down')  \\\n",
    "    .toPandas()\n",
    "\n",
    "# help\n",
    "help_page = df_c.select('userId', 'churn', 'page') \\\n",
    "    .where(df_c.page == 'Help') \\\n",
    "    .groupBy('userID', 'churn') \\\n",
    "    .count() \\\n",
    "    .withColumnRenamed('count', 'num_help_page')  \\\n",
    "    .toPandas()\n",
    "\n",
    "# errors\n",
    "error_page = df_c.select('userId', 'churn', 'page') \\\n",
    "    .where(df_c.page == 'Error') \\\n",
    "    .groupBy('userID', 'churn') \\\n",
    "    .count() \\\n",
    "    .withColumnRenamed('count', 'num_error_page')  \\\n",
    "    .toPandas()"
   ]
  },
  {
   "cell_type": "code",
   "execution_count": 66,
   "metadata": {},
   "outputs": [
    {
     "data": {
      "image/png": "[encoded data removed]",
      "text/plain": [
       "<Figure size 2000x1200 with 6 Axes>"
      ]
     },
     "metadata": {
      "needs_background": "light"
     },
     "output_type": "display_data"
    }
   ],
   "source": [
    "fig2, axs2 = plt.subplots(3, 2, figsize=(20, 12), dpi=100)\n",
    "\n",
    "# songs\n",
    "sns.boxplot(x='avg_songs_played',\n",
    "            y='churn',\n",
    "            data=songs,\n",
    "            palette=colors,\n",
    "            orient='h',\n",
    "            ax=axs2[0,0])\n",
    "axs2[0,0].set_xlabel('Average Number of Songs per Session')\n",
    "\n",
    "# added friends\n",
    "sns.boxplot(x='num_added_friends',\n",
    "            y='churn',\n",
    "            data=added_friends,\n",
    "            palette=colors,\n",
    "            orient='h',\n",
    "            ax=axs2[0,1])\n",
    "axs2[0,1].set_xlabel('Number of added friends per user')\n",
    "\n",
    "#thumbs up\n",
    "sns.boxplot(x='num_thumb_up',\n",
    "            y='churn',\n",
    "            data=thumbs_up,\n",
    "            palette=colors,\n",
    "            orient=\"h\",\n",
    "            ax=axs2[1,0])\n",
    "axs2[1,0].set_xlabel('Number of \"Thumbs Up\" per user')\n",
    "\n",
    "#thumbs down\n",
    "sns.boxplot(x='num_thumb_down',\n",
    "            y='churn',\n",
    "            data=thumbs_down,\n",
    "            palette=colors,\n",
    "            orient=\"h\",\n",
    "            ax=axs2[1,1])\n",
    "axs2[1,1].set_xlabel('Number of \"Thumbs Down\" per user')            \n",
    "\n",
    "#help page\n",
    "sns.boxplot(x='num_help_page',\n",
    "            y='churn',\n",
    "            data=help_page,\n",
    "            palette=colors,\n",
    "            orient=\"h\",\n",
    "            ax=axs2[2,0])\n",
    "axs2[2,0].set_xlabel('Number of visited the help page per user')\n",
    "\n",
    "#error page\n",
    "sns.boxplot(x='num_error_page',\n",
    "            y='churn',\n",
    "            data=error_page,\n",
    "            palette=colors,\n",
    "            orient=\"h\",\n",
    "            ax=axs2[2,1])\n",
    "axs2[2,1].set_xlabel('Number of visited the error page per user')\n",
    "\n",
    "fig2.suptitle('Visited Pages', fontsize=14)\n",
    "plt.subplots_adjust(hspace=0.3, wspace=0.2)\n",
    "\n",
    "plt.show()"
   ]
  },
  {
   "cell_type": "markdown",
   "metadata": {},
   "source": [
    "Ok number of \"thumbs up\" per user could be a feature. Users who churned have less often pressed thumbs up.It is also interesting, that user who churned not significantly pressed the \"thumbs down\" button more often than user who not churned. Also the number of times a user visited the help page could be an interesting feature for predicting churn."
   ]
  },
  {
   "cell_type": "markdown",
   "metadata": {},
   "source": [
    "#### Listened Songs, Artists and Session information"
   ]
  },
  {
   "cell_type": "code",
   "execution_count": 29,
   "metadata": {},
   "outputs": [],
   "source": [
    "# songs listened\n",
    "songs_listened = df_c \\\n",
    "    .select('userId','song', 'churn') \\\n",
    "    .groupBy('userId', 'churn') \\\n",
    "    .count() \\\n",
    "    .toPandas()\n",
    "\n",
    "#artists listened\n",
    "artists = df_c \\\n",
    "    .select(\"userId\", \"artist\", 'churn') \\\n",
    "    .dropDuplicates() \\\n",
    "    .groupby(\"userId\", 'churn') \\\n",
    "    .count() \\\n",
    "    .toPandas()\n",
    "\n",
    "#sessions\n",
    "n_sessions = df_c \\\n",
    "    .select('userId','sessionId', 'churn') \\\n",
    "    .groupBy('userId', 'churn') \\\n",
    "    .count() \\\n",
    "    .toPandas()\n",
    "\n",
    "# length\n",
    "length = df_c \\\n",
    "    .select('userId','length', 'churn') \\\n",
    "    .groupBy('userId', 'churn') \\\n",
    "    .sum() \\\n",
    "    .toPandas()"
   ]
  },
  {
   "cell_type": "code",
   "execution_count": 67,
   "metadata": {},
   "outputs": [
    {
     "data": {
      "image/png": "[encoded data removed]",
      "text/plain": [
       "<Figure size 2000x1200 with 4 Axes>"
      ]
     },
     "metadata": {
      "needs_background": "light"
     },
     "output_type": "display_data"
    }
   ],
   "source": [
    "fig3, axs3 = plt.subplots(2, 2, figsize=(20, 12), dpi=100)\n",
    "\n",
    "# listened songs\n",
    "sns.boxplot(x='count',\n",
    "            y='churn',\n",
    "            data=songs_listened,\n",
    "            palette=colors,\n",
    "            orient=\"h\",\n",
    "            ax=axs3[0,0])\n",
    "axs3[0,0].set_xlabel('Total Songs listened')\n",
    "     \n",
    "# listened artists\n",
    "sns.boxplot(x='count',\n",
    "            y='churn',\n",
    "            data=artists,\n",
    "            palette=colors,\n",
    "            orient=\"h\",\n",
    "            ax=axs3[0,1])\n",
    "axs3[0,1].set_xlabel('Total Artists listened')\n",
    "\n",
    "# number of sessions\n",
    "sns.boxplot(x='count',\n",
    "            y='churn',\n",
    "            data=n_sessions,\n",
    "            palette=colors,\n",
    "            orient=\"h\",\n",
    "            ax=axs3[1,0])\n",
    "axs3[1,0].set_xlabel('Number of total Sessions')\n",
    "\n",
    "# length\n",
    "sns.boxplot(x='sum(length)',\n",
    "            y='churn',\n",
    "            data=length,\n",
    "            palette=colors,\n",
    "            orient=\"h\",\n",
    "            ax=axs3[1,1])\n",
    "axs3[1,1].set_xlabel('Length (Sum)')\n",
    "\n",
    "\n",
    "fig3.suptitle('Songs, Artists and Session', fontsize=14)\n",
    "plt.subplots_adjust(hspace=0.3, wspace=0.2)\n",
    "\n",
    "plt.show()"
   ]
  },
  {
   "cell_type": "markdown",
   "metadata": {},
   "source": [
    "Ok it seems, the number of sessions is the same as number of listened Songs. And also the length and number of session is at least very similar."
   ]
  },
  {
   "cell_type": "code",
   "execution_count": 31,
   "metadata": {},
   "outputs": [],
   "source": [
    "songs_length = songs_listened.merge(length, on='userId')"
   ]
  },
  {
   "cell_type": "code",
   "execution_count": 32,
   "metadata": {},
   "outputs": [
    {
     "data": {
      "image/png": "[encoded data removed]",
      "text/plain": [
       "<Figure size 720x360 with 1 Axes>"
      ]
     },
     "metadata": {
      "needs_background": "light"
     },
     "output_type": "display_data"
    }
   ],
   "source": [
    "fig, axs = plt.subplots(figsize=(10,5))\n",
    "axs = sns.scatterplot(x='sum(length)',\n",
    "                      y='count',\n",
    "                      hue='churn_x',\n",
    "                      data=songs_length,\n",
    "                      palette=colors)\n",
    "axs.set_xlabel('Length (Sum)')\n",
    "axs.set_ylabel('Number of Songs listened')\n",
    "\n",
    "plt.show()"
   ]
  },
  {
   "cell_type": "markdown",
   "metadata": {},
   "source": [
    "That I expected, the length is the length of the songs, thats why it seems to be a linear dependency between number of songs listened and length. So for later on, I should use just one feature, length or the number of songs listened."
   ]
  },
  {
   "cell_type": "markdown",
   "metadata": {},
   "source": [
    "# 4. Feature Engineering <a id='feature_engineering'></a>\n",
    "[back](#toc)\n",
    "\n",
    "Once you've familiarized yourself with the data, build out the features you find promising to train your model on. To work with the full dataset, you can follow the following steps.\n",
    "- Write a script to extract the necessary features from the smaller subset of data\n",
    "- Ensure that your script is scalable, using the best practices discussed in Lesson 3\n",
    "- Try your script on the full data set, debugging your script if necessary\n",
    "\n",
    "If you are working in the classroom workspace, you can just extract features based on the small subset of data contained here. Be sure to transfer over this work to the larger dataset when you work on your Spark cluster."
   ]
  },
  {
   "cell_type": "markdown",
   "metadata": {},
   "source": [
    "Based on the exploration, the choosed features are:\n",
    "    - gender\n",
    "    - total songs listened\n",
    "    - number of added friends\n",
    "    - number of thumbs up\n",
    "    - number of thumbs down\n",
    "    - total artists listened\n",
    "    - help page visits"
   ]
  },
  {
   "cell_type": "code",
   "execution_count": 33,
   "metadata": {},
   "outputs": [
    {
     "name": "stdout",
     "output_type": "stream",
     "text": [
      "+------+------+\n",
      "|userId|gender|\n",
      "+------+------+\n",
      "|    44|     1|\n",
      "|    46|     1|\n",
      "+------+------+\n",
      "only showing top 2 rows\n",
      "\n"
     ]
    }
   ],
   "source": [
    "# gender\n",
    "f1 = df_c \\\n",
    "    .select('userId', 'gender') \\\n",
    "    .dropDuplicates() \\\n",
    "    .replace(['M', 'F'], ['0', '1'], 'gender') \\\n",
    "    .select('userId', col('gender').cast('int'))\n",
    "f1.show(2)"
   ]
  },
  {
   "cell_type": "code",
   "execution_count": 35,
   "metadata": {},
   "outputs": [
    {
     "name": "stdout",
     "output_type": "stream",
     "text": [
      "+------+-----------+\n",
      "|userId|total_songs|\n",
      "+------+-----------+\n",
      "|100010|        381|\n",
      "|200002|        474|\n",
      "|   125|         11|\n",
      "|    51|       2464|\n",
      "|   124|       4825|\n",
      "+------+-----------+\n",
      "only showing top 5 rows\n",
      "\n"
     ]
    }
   ],
   "source": [
    "# total songs listened\n",
    "f2 = df_c \\\n",
    "    .select('userId','song') \\\n",
    "    .groupBy('userId') \\\n",
    "    .count() \\\n",
    "    .withColumnRenamed('count', 'total_songs')\n",
    "f2.show(5)"
   ]
  },
  {
   "cell_type": "code",
   "execution_count": 36,
   "metadata": {},
   "outputs": [
    {
     "name": "stdout",
     "output_type": "stream",
     "text": [
      "+------+-----------------+\n",
      "|userId|num_added_friends|\n",
      "+------+-----------------+\n",
      "|100010|                4|\n",
      "|200002|                4|\n",
      "|    51|               28|\n",
      "|   124|               74|\n",
      "|     7|                1|\n",
      "+------+-----------------+\n",
      "only showing top 5 rows\n",
      "\n"
     ]
    }
   ],
   "source": [
    "# added friends\n",
    "f3 = df_c.select('userId', 'page') \\\n",
    "    .where(df_c.page == 'Add Friend') \\\n",
    "    .groupBy('userId') \\\n",
    "    .count() \\\n",
    "    .withColumnRenamed('count', 'num_added_friends')\n",
    "f3.show(5)"
   ]
  },
  {
   "cell_type": "code",
   "execution_count": 37,
   "metadata": {},
   "outputs": [
    {
     "name": "stdout",
     "output_type": "stream",
     "text": [
      "+------+------------+\n",
      "|userId|num_thumb_up|\n",
      "+------+------------+\n",
      "|100010|          17|\n",
      "|200002|          21|\n",
      "|    51|         100|\n",
      "|   124|         171|\n",
      "|     7|           7|\n",
      "+------+------------+\n",
      "only showing top 5 rows\n",
      "\n"
     ]
    }
   ],
   "source": [
    "# thumbs up\n",
    "f4 = df_c \\\n",
    "    .select('userId','page') \\\n",
    "    .where(df_c.page == 'Thumbs Up') \\\n",
    "    .groupBy('userId') \\\n",
    "    .count() \\\n",
    "    .withColumnRenamed('count', 'num_thumb_up') \n",
    "f4.show(5)\n"
   ]
  },
  {
   "cell_type": "code",
   "execution_count": 38,
   "metadata": {},
   "outputs": [
    {
     "name": "stdout",
     "output_type": "stream",
     "text": [
      "+------+--------------+\n",
      "|userId|num_thumb_down|\n",
      "+------+--------------+\n",
      "|100010|             5|\n",
      "|200002|             6|\n",
      "|    51|            21|\n",
      "|   124|            41|\n",
      "|     7|             1|\n",
      "+------+--------------+\n",
      "only showing top 5 rows\n",
      "\n"
     ]
    }
   ],
   "source": [
    "# thumbs down\n",
    "f5 = df_c \\\n",
    "    .select('userId','page') \\\n",
    "    .where(df_c.page == 'Thumbs Down') \\\n",
    "    .groupBy('userId') \\\n",
    "    .count() \\\n",
    "    .withColumnRenamed('count', 'num_thumb_down')\n",
    "f5.show(5)"
   ]
  },
  {
   "cell_type": "code",
   "execution_count": 39,
   "metadata": {},
   "outputs": [
    {
     "name": "stdout",
     "output_type": "stream",
     "text": [
      "+------+-------------+\n",
      "|userId|num_help_page|\n",
      "+------+-------------+\n",
      "|100010|            2|\n",
      "|200002|            2|\n",
      "|    51|           12|\n",
      "|   124|           23|\n",
      "|     7|            1|\n",
      "+------+-------------+\n",
      "only showing top 5 rows\n",
      "\n"
     ]
    }
   ],
   "source": [
    "# help\n",
    "f6 = df_c.select('userId', 'page') \\\n",
    "    .where(df_c.page == 'Help') \\\n",
    "    .groupBy('userId') \\\n",
    "    .count() \\\n",
    "    .withColumnRenamed('count', 'num_help_page')\n",
    "f6.show(5)"
   ]
  },
  {
   "cell_type": "code",
   "execution_count": 40,
   "metadata": {},
   "outputs": [
    {
     "name": "stdout",
     "output_type": "stream",
     "text": [
      "+------+-------------+\n",
      "|userId|total_artists|\n",
      "+------+-------------+\n",
      "|100010|          381|\n",
      "|200002|          474|\n",
      "|   125|           11|\n",
      "|    51|         2464|\n",
      "|   124|         4825|\n",
      "+------+-------------+\n",
      "only showing top 5 rows\n",
      "\n"
     ]
    }
   ],
   "source": [
    "# total artists listened\n",
    "# total songs listened\n",
    "f7 = df_c \\\n",
    "    .select('userId','artist') \\\n",
    "    .groupBy('userId') \\\n",
    "    .count() \\\n",
    "    .withColumnRenamed('count', 'total_artists')\n",
    "f7.show(5)"
   ]
  },
  {
   "cell_type": "code",
   "execution_count": 41,
   "metadata": {},
   "outputs": [],
   "source": [
    "churn_label = df_c \\\n",
    "    .select('userId', 'churn') \\\n",
    "    .dropDuplicates() \\\n",
    "    .replace(['false', 'true'], ['0', '1'], 'churn') \\\n",
    "    .select('userId', col('churn').cast('int'))"
   ]
  },
  {
   "cell_type": "code",
   "execution_count": 42,
   "metadata": {},
   "outputs": [
    {
     "name": "stdout",
     "output_type": "stream",
     "text": [
      "+------+-----+\n",
      "|userId|churn|\n",
      "+------+-----+\n",
      "|    19|    0|\n",
      "|100005|    1|\n",
      "|200007|    0|\n",
      "|300007|    1|\n",
      "|    50|    0|\n",
      "+------+-----+\n",
      "only showing top 5 rows\n",
      "\n"
     ]
    }
   ],
   "source": [
    "churn_label.show(5)"
   ]
  },
  {
   "cell_type": "code",
   "execution_count": 43,
   "metadata": {},
   "outputs": [
    {
     "name": "stdout",
     "output_type": "stream",
     "text": [
      "+------+-----------+-----------------+------------+--------------+-------------+-------------+-----+\n",
      "|gender|total_songs|num_added_friends|num_thumb_up|num_thumb_down|num_help_page|total_artists|churn|\n",
      "+------+-----------+-----------------+------------+--------------+-------------+-------------+-----+\n",
      "|     1|        381|                4|          17|             5|            2|          381|    0|\n",
      "|     0|        474|                4|          21|             6|            2|          474|    0|\n",
      "|     0|         11|                0|           0|             0|            0|           11|    1|\n",
      "|     1|       4825|               74|         171|            41|           23|         4825|    0|\n",
      "|     0|       2464|               28|         100|            21|           12|         2464|    1|\n",
      "+------+-----------+-----------------+------------+--------------+-------------+-------------+-----+\n",
      "only showing top 5 rows\n",
      "\n"
     ]
    }
   ],
   "source": [
    "# Merge to one dataframe \n",
    "data = f1.join(f2,'userId','outer') \\\n",
    "    .join(f3,'userId','outer') \\\n",
    "    .join(f4,'userId','outer') \\\n",
    "    .join(f5,'userId','outer') \\\n",
    "    .join(f6,'userId','outer') \\\n",
    "    .join(f7,'userId','outer') \\\n",
    "    .join(churn_label,'userId','outer') \\\n",
    "    .drop('userId') \\\n",
    "    .fillna(0)\n",
    "\n",
    "data.show(5)"
   ]
  },
  {
   "cell_type": "markdown",
   "metadata": {},
   "source": [
    "# 5. Modeling <a id='modeling'></a>\n",
    "[back](#toc)\n",
    "\n",
    "Split the full dataset into train, test, and validation sets. Test out several of the machine learning methods you learned. Evaluate the accuracy of the various models, tuning parameters as necessary. Determine your winning model based on test accuracy and report results on the validation set. Since the churned users are a fairly small subset, I suggest using F1 score as the metric to optimize."
   ]
  },
  {
   "cell_type": "markdown",
   "metadata": {},
   "source": [
    "## Settings"
   ]
  },
  {
   "cell_type": "code",
   "execution_count": 54,
   "metadata": {},
   "outputs": [],
   "source": [
    "model_evaluator = MulticlassClassificationEvaluator(metricName='f1')\n",
    "\n",
    "def eva(evaluator, test_data):\n",
    "       \n",
    "    # f1-Score\n",
    "    print('F1-Score on test data: ' + str(evaluator.evaluate(test_data)))\n",
    "\n",
    "    # accuracy\n",
    "    corr_pred_test = test_data.filter(test_data.label == test_data.prediction).count()\n",
    "    sum_test = test_data.count()\n",
    "    print('Correct predicted: ' + str(corr_pred_test))\n",
    "    print('Total: ' + str(sum_test))\n",
    "    print('Accuracy: ' + str(corr_pred_test/sum_test))"
   ]
  },
  {
   "cell_type": "markdown",
   "metadata": {},
   "source": [
    "## Models"
   ]
  },
  {
   "cell_type": "code",
   "execution_count": 45,
   "metadata": {},
   "outputs": [],
   "source": [
    "assembler = VectorAssembler(inputCols=data.columns[0:-1], outputCol=\"NumFeatures\")\n",
    "data = assembler.transform(data)"
   ]
  },
  {
   "cell_type": "code",
   "execution_count": 46,
   "metadata": {},
   "outputs": [
    {
     "name": "stdout",
     "output_type": "stream",
     "text": [
      "+------+-----------+-----------------+------------+--------------+-------------+-------------+-----+--------------------+\n",
      "|gender|total_songs|num_added_friends|num_thumb_up|num_thumb_down|num_help_page|total_artists|churn|         NumFeatures|\n",
      "+------+-----------+-----------------+------------+--------------+-------------+-------------+-----+--------------------+\n",
      "|     1|        381|                4|          17|             5|            2|          381|    0|[1.0,381.0,4.0,17...|\n",
      "|     0|        474|                4|          21|             6|            2|          474|    0|[0.0,474.0,4.0,21...|\n",
      "|     0|         11|                0|           0|             0|            0|           11|    1|(7,[1,6],[11.0,11...|\n",
      "|     1|       4825|               74|         171|            41|           23|         4825|    0|[1.0,4825.0,74.0,...|\n",
      "|     0|       2464|               28|         100|            21|           12|         2464|    1|[0.0,2464.0,28.0,...|\n",
      "+------+-----------+-----------------+------------+--------------+-------------+-------------+-----+--------------------+\n",
      "only showing top 5 rows\n",
      "\n"
     ]
    }
   ],
   "source": [
    "data.show(5)"
   ]
  },
  {
   "cell_type": "code",
   "execution_count": 47,
   "metadata": {},
   "outputs": [],
   "source": [
    "scaler = StandardScaler(inputCol=\"NumFeatures\", outputCol=\"features\")\n",
    "scalerModel = scaler.fit(data)\n",
    "data = scalerModel.transform(data)"
   ]
  },
  {
   "cell_type": "code",
   "execution_count": 48,
   "metadata": {},
   "outputs": [
    {
     "name": "stdout",
     "output_type": "stream",
     "text": [
      "+------+-----------+-----------------+------------+--------------+-------------+-------------+-----+--------------------+--------------------+\n",
      "|gender|total_songs|num_added_friends|num_thumb_up|num_thumb_down|num_help_page|total_artists|churn|         NumFeatures|            features|\n",
      "+------+-----------+-----------------+------------+--------------+-------------+-------------+-----+--------------------+--------------------+\n",
      "|     1|        381|                4|          17|             5|            2|          381|    0|[1.0,381.0,4.0,17...|[2.00127105192366...|\n",
      "|     0|        474|                4|          21|             6|            2|          474|    0|[0.0,474.0,4.0,21...|[0.0,0.3565165043...|\n",
      "|     0|         11|                0|           0|             0|            0|           11|    1|(7,[1,6],[11.0,11...|(7,[1,6],[0.00827...|\n",
      "|     1|       4825|               74|         171|            41|           23|         4825|    0|[1.0,4825.0,74.0,...|[2.00127105192366...|\n",
      "|     0|       2464|               28|         100|            21|           12|         2464|    1|[0.0,2464.0,28.0,...|[0.0,1.8532841071...|\n",
      "+------+-----------+-----------------+------------+--------------+-------------+-------------+-----+--------------------+--------------------+\n",
      "only showing top 5 rows\n",
      "\n"
     ]
    }
   ],
   "source": [
    "data.show(5)"
   ]
  },
  {
   "cell_type": "code",
   "execution_count": 49,
   "metadata": {},
   "outputs": [],
   "source": [
    "data = data.select(data['churn'].alias('label'), data['features'])\n",
    "\n",
    "train, rest = data.randomSplit([0.6, 0.4], seed=42)\n",
    "test, validation = rest.randomSplit([0.6, 0.4], seed=42)"
   ]
  },
  {
   "cell_type": "markdown",
   "metadata": {},
   "source": [
    "#### Logistic Regression "
   ]
  },
  {
   "cell_type": "code",
   "execution_count": 50,
   "metadata": {},
   "outputs": [],
   "source": [
    "# initialize classifier\n",
    "lr = LogisticRegression()\n",
    "\n",
    "# build paramGrid\n",
    "paramGrid = ParamGridBuilder() \\\n",
    "    .addGrid(lr.maxIter, [5, 10]) \\\n",
    "    .addGrid(lr.elasticNetParam,[0.0, 0.1, 0.5]) \\\n",
    "    .addGrid(lr.regParam,[0.0, 0.1, 0.2]) \\\n",
    "    .build()\n",
    "\n",
    "crossval_lr = CrossValidator(estimator=lr,\n",
    "                             evaluator=model_evaluator,\n",
    "                             estimatorParamMaps=paramGrid,\n",
    "                             numFolds=3)"
   ]
  },
  {
   "cell_type": "code",
   "execution_count": 51,
   "metadata": {},
   "outputs": [
    {
     "name": "stdout",
     "output_type": "stream",
     "text": [
      "The training process took 345.16894936561584 seconds\n"
     ]
    }
   ],
   "source": [
    "start = time()\n",
    "cvModel_lr = crossval_lr.fit(train)\n",
    "end = time()\n",
    "print('The training process took {} seconds'.format(end - start))"
   ]
  },
  {
   "cell_type": "code",
   "execution_count": 52,
   "metadata": {
    "scrolled": true
   },
   "outputs": [
    {
     "data": {
      "text/plain": [
       "[0.6674461885203795,\n",
       " 0.6674461885203795,\n",
       " 0.6674461885203795,\n",
       " 0.6674461885203795,\n",
       " 0.6674461885203795,\n",
       " 0.6674461885203795,\n",
       " 0.6674461885203795,\n",
       " 0.6674461885203795,\n",
       " 0.6674461885203795,\n",
       " 0.6710460584555972,\n",
       " 0.6674461885203795,\n",
       " 0.6674461885203795,\n",
       " 0.6710460584555972,\n",
       " 0.6674461885203795,\n",
       " 0.6674461885203795,\n",
       " 0.6710460584555972,\n",
       " 0.6674461885203795,\n",
       " 0.6674461885203795]"
      ]
     },
     "execution_count": 52,
     "metadata": {},
     "output_type": "execute_result"
    }
   ],
   "source": [
    "cvModel_lr.avgMetrics"
   ]
  },
  {
   "cell_type": "code",
   "execution_count": 55,
   "metadata": {},
   "outputs": [
    {
     "name": "stdout",
     "output_type": "stream",
     "text": [
      "F1-Score on test data: 0.43572984749455335\n",
      "Correct predicted: 10\n",
      "Total: 17\n",
      "Accuracy: 0.5882352941176471\n"
     ]
    }
   ],
   "source": [
    "# transform to test data and calc metrics for test data\n",
    "results_lr_test = cvModel_lr.bestModel.transform(test)\n",
    "\n",
    "eva(model_evaluator, results_lr_test)"
   ]
  },
  {
   "cell_type": "markdown",
   "metadata": {},
   "source": [
    "#### Decision Tree"
   ]
  },
  {
   "cell_type": "code",
   "execution_count": 56,
   "metadata": {},
   "outputs": [],
   "source": [
    "dt = DecisionTreeClassifier()\n",
    "paramGrid = ParamGridBuilder() \\\n",
    "    .addGrid(dt.impurity,['entropy', 'gini']) \\\n",
    "    .addGrid(dt.maxDepth,[2, 5, 10]) \\\n",
    "    .build()\n",
    "\n",
    "crossval_dt = CrossValidator(estimator=dt,\n",
    "                             estimatorParamMaps=paramGrid,\n",
    "                             evaluator=model_evaluator,\n",
    "                             numFolds=3)"
   ]
  },
  {
   "cell_type": "code",
   "execution_count": 57,
   "metadata": {},
   "outputs": [
    {
     "name": "stdout",
     "output_type": "stream",
     "text": [
      "The training process took 183.8378667831421 seconds\n"
     ]
    }
   ],
   "source": [
    "start = time()\n",
    "cvModel_dt = crossval_dt.fit(train)\n",
    "end = time()\n",
    "print('The training process took {} seconds'.format(end - start))"
   ]
  },
  {
   "cell_type": "code",
   "execution_count": 58,
   "metadata": {},
   "outputs": [
    {
     "data": {
      "text/plain": [
       "[0.6782092728507596,\n",
       " 0.6526461203221847,\n",
       " 0.6203185539440856,\n",
       " 0.6682055666396755,\n",
       " 0.6779472852800237,\n",
       " 0.6894157353829801]"
      ]
     },
     "execution_count": 58,
     "metadata": {},
     "output_type": "execute_result"
    }
   ],
   "source": [
    "cvModel_dt.avgMetrics"
   ]
  },
  {
   "cell_type": "code",
   "execution_count": 59,
   "metadata": {},
   "outputs": [
    {
     "name": "stdout",
     "output_type": "stream",
     "text": [
      "F1-Score on test data: 0.7015729368670545\n",
      "Correct predicted: 12\n",
      "Total: 17\n",
      "Accuracy: 0.7058823529411765\n"
     ]
    }
   ],
   "source": [
    "# transform to test data and calc metrics for test data\n",
    "results_dt_test = cvModel_dt.bestModel.transform(test)\n",
    "\n",
    "eva(model_evaluator, results_dt_test)"
   ]
  },
  {
   "cell_type": "markdown",
   "metadata": {},
   "source": [
    "#### Gradient-boosted Trees"
   ]
  },
  {
   "cell_type": "code",
   "execution_count": 60,
   "metadata": {},
   "outputs": [],
   "source": [
    "gbt = GBTClassifier()\n",
    "\n",
    "paramGrid = ParamGridBuilder() \\\n",
    "    .addGrid(gbt.maxIter,[3, 10, 20]) \\\n",
    "    .addGrid(gbt.maxDepth,[2, 5, 10]) \\\n",
    "    .build()\n",
    "\n",
    "crossval_gbt = CrossValidator(estimator=gbt,\n",
    "                              estimatorParamMaps=paramGrid,\n",
    "                              evaluator=model_evaluator,\n",
    "                              numFolds=3)"
   ]
  },
  {
   "cell_type": "code",
   "execution_count": 61,
   "metadata": {},
   "outputs": [
    {
     "name": "stdout",
     "output_type": "stream",
     "text": [
      "The training process took 1303.945767879486 seconds\n"
     ]
    }
   ],
   "source": [
    "start = time()\n",
    "cvModel_gbt = crossval_gbt.fit(train)\n",
    "end = time()\n",
    "print('The training process took {} seconds'.format(end - start))"
   ]
  },
  {
   "cell_type": "code",
   "execution_count": 62,
   "metadata": {},
   "outputs": [
    {
     "data": {
      "text/plain": [
       "[0.6682055666396755,\n",
       " 0.6671986624107008,\n",
       " 0.6894157353829801,\n",
       " 0.6731443273837314,\n",
       " 0.6743338046572938,\n",
       " 0.6894157353829801,\n",
       " 0.674748811442269,\n",
       " 0.6913127743734269,\n",
       " 0.6894157353829801]"
      ]
     },
     "execution_count": 62,
     "metadata": {},
     "output_type": "execute_result"
    }
   ],
   "source": [
    "cvModel_gbt.avgMetrics"
   ]
  },
  {
   "cell_type": "code",
   "execution_count": 63,
   "metadata": {},
   "outputs": [
    {
     "name": "stdout",
     "output_type": "stream",
     "text": [
      "F1-Score on test data: 0.6336898395721924\n",
      "Correct predicted: 11\n",
      "Total: 17\n",
      "Accuracy: 0.6470588235294118\n"
     ]
    }
   ],
   "source": [
    "# transform to test data and calc metrics for test data\n",
    "results_gbt_test = cvModel_gbt.bestModel.transform(test)\n",
    "\n",
    "eva(model_evaluator, results_gbt_test)"
   ]
  },
  {
   "cell_type": "markdown",
   "metadata": {},
   "source": [
    "With the chosen parameters, the Decision Trees and the Gradient-boosted Trees performing best on the training set and the best Decision Tree is performing best on the test data. For the Validation, this one is choosen."
   ]
  },
  {
   "cell_type": "markdown",
   "metadata": {},
   "source": [
    "#### Validation"
   ]
  },
  {
   "cell_type": "code",
   "execution_count": 64,
   "metadata": {},
   "outputs": [
    {
     "name": "stdout",
     "output_type": "stream",
     "text": [
      "F1-Score on test data: 0.7260722470806503\n",
      "Correct predicted: 46\n",
      "Total: 66\n",
      "Accuracy: 0.696969696969697\n"
     ]
    }
   ],
   "source": [
    "validation_results = cvModel_dt.bestModel.transform(validation)\n",
    "eva(model_evaluator, validation_results)"
   ]
  },
  {
   "cell_type": "markdown",
   "metadata": {},
   "source": [
    "# 6. Final Steps <a id='final'></a>\n",
    "[back](#toc)\n",
    "\n",
    "Clean up your code, adding comments and renaming variables to make the code easier to read and maintain. Refer to the Spark Project Overview page and Data Scientist Capstone Project Rubric to make sure you are including all components of the capstone project and meet all expectations. Remember, this includes thorough documentation in a README file in a Github repository, as well as a web app or blog post."
   ]
  },
  {
   "cell_type": "markdown",
   "metadata": {},
   "source": [
    "#### Improvements"
   ]
  },
  {
   "cell_type": "markdown",
   "metadata": {},
   "source": [
    "The best models reached a f1-score of 0.7 and accuracy of 70 % for the test and a f1-score of 0,73 and an accuracy of about 70 % for the validation set. This also means, the model has a huge potential to improve. \n",
    "At least there are some obvious points to improve:\n",
    "+ the number of features considered could be enhanced e.g. the states or the downgrade aspect\n",
    "+ using the bigger dataset could lead to another distribution of the occurence of features per user groups\n",
    "+ maybe special usage days or hours are a good feature"
   ]
  },
  {
   "cell_type": "code",
   "execution_count": null,
   "metadata": {},
   "outputs": [],
   "source": []
  }
 ],
 "metadata": {
  "kernelspec": {
   "display_name": "Python 3",
   "language": "python",
   "name": "python3"
  },
  "language_info": {
   "codemirror_mode": {
    "name": "ipython",
    "version": 3
   },
   "file_extension": ".py",
   "mimetype": "text/x-python",
   "name": "python",
   "nbconvert_exporter": "python",
   "pygments_lexer": "ipython3",
   "version": "3.7.3"
  }
 },
 "nbformat": 4,
 "nbformat_minor": 2
}
